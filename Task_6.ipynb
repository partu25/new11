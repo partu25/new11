{
 "cells": [
  {
   "cell_type": "markdown",
   "id": "bd404775-7b3e-40e4-b6dd-b401b53b1ecc",
   "metadata": {},
   "source": [
    "<a href='https://www.darshan.ac.in/'> <img src='https://www.darshan.ac.in/Content/media/DU_Logo.svg' width=\"250\" height=\"300\"/></a>\n",
    "<pre>\n",
    "<center><b><h1>Data Mining</b></center>\n",
    "<center><b><h1>Task - 6</b></center>  \n",
    "<center><b><h1>17-09-2025\n",
    "</b></center>    \n",
    "\n",
    "<pre>"
   ]
  },
  {
   "cell_type": "markdown",
   "id": "f104d9e9-f8a7-490b-951a-f0711ce71367",
   "metadata": {},
   "source": [
    "# Implement K- Means without Library\n",
    "# Sample data points\n",
    "data = [\n",
    "    [650, 50000],   \n",
    "    [660, 52000], \n",
    "    [670, 54000],   \n",
    "    [720, 150000],  \n",
    "    [730, 155000], \n",
    "    [740, 160000],  \n",
    "    [580, 2000],   \n",
    "    [590, 2500],    \n",
    "    [600, 3000]   \n",
    "]"
   ]
  },
  {
   "cell_type": "code",
   "execution_count": 7,
   "id": "ed153b7f-aa51-478b-b89b-38d0ef73b945",
   "metadata": {},
   "outputs": [],
   "source": [
    "import math"
   ]
  },
  {
   "cell_type": "code",
   "execution_count": 9,
   "id": "8966081c-e815-4c47-b54c-dc5803665ade",
   "metadata": {},
   "outputs": [],
   "source": [
    "data = [ [650, 50000],\n",
    "[660, 52000], [670, 54000],\n",
    "[720, 150000],\n",
    "[730, 155000], [740, 160000],\n",
    "[580, 2000],\n",
    "[590, 2500],\n",
    "[600, 3000]\n",
    "]"
   ]
  },
  {
   "cell_type": "code",
   "execution_count": 11,
   "id": "a5775926-735d-42d7-ba35-73ac395a3899",
   "metadata": {},
   "outputs": [
    {
     "data": {
      "text/plain": [
       "0.0"
      ]
     },
     "execution_count": 11,
     "metadata": {},
     "output_type": "execute_result"
    }
   ],
   "source": [
    "def distance(x1,x2):\n",
    "    return math.sqrt(((x1[0] - x2[0])**2) + ((x1[1] - x2[1])**2))\n",
    "distance([1,1],[1,1])"
   ]
  },
  {
   "cell_type": "code",
   "execution_count": 13,
   "id": "43cbeda6-496e-4db6-a469-d3f5afe93985",
   "metadata": {},
   "outputs": [
    {
     "data": {
      "text/plain": [
       "[1.3333333333333333, 1.3333333333333333]"
      ]
     },
     "execution_count": 13,
     "metadata": {},
     "output_type": "execute_result"
    }
   ],
   "source": [
    "def update_cluster_center(cluster_data):\n",
    "    sum = [0,0]\n",
    "    for i in cluster_data:\n",
    "        sum[0] =  sum[0] + i[0]\n",
    "        sum[1] =  sum[1] + i[1]\n",
    "    return [sum[0]/len(cluster_data),sum[1]/len(cluster_data)] \n",
    "update_cluster_center([[1,1],[2,2],[1,1]])"
   ]
  },
  {
   "cell_type": "markdown",
   "id": "d40d3c90-3a3a-400f-8e87-ce548baf8d75",
   "metadata": {},
   "source": [
    "# Now Implement code"
   ]
  },
  {
   "cell_type": "code",
   "execution_count": 16,
   "id": "a6e2cb04-39d0-4389-94bc-d140e3440cac",
   "metadata": {},
   "outputs": [
    {
     "name": "stdout",
     "output_type": "stream",
     "text": [
      "[[730, 155000], [740, 160000], [650, 50000]]\n",
      "[[[730, 155000]], [[740, 160000]], [[650, 50000]]]\n",
      "[650, 50000] --> [105000.03047618605, 110000.03681817565, 0.0]\n",
      "[660, 52000] --> [103000.02378640501, 108000.02962962557, 2000.0249998437519]\n",
      "[670, 54000] --> [101000.01782178061, 106000.02311320502, 4000.0499996875037]\n",
      "[720, 150000] --> [5000.00999999, 10000.01999998, 100000.024499997]\n",
      "[730, 155000] --> [0.0, 5000.00999999, 105000.03047618605]\n",
      "[740, 160000] --> [5000.00999999, 0.0, 110000.03681817565]\n",
      "[580, 2000] --> [153000.0735293941, 158000.08101263747, 48000.05104163953]\n",
      "[590, 2500] --> [152500.06426228155, 157500.07142855524, 47500.037894721725]\n",
      "[600, 3000] --> [152000.0555920951, 157000.06242036977, 47000.02659573716]\n",
      "0 --> [[720, 150000], [730, 155000]]\n",
      "1 --> [[740, 160000]]\n",
      "2 --> [[650, 50000], [660, 52000], [670, 54000], [580, 2000], [590, 2500], [600, 3000]]\n",
      "NEW Cluster Center [[725.0, 152500.0], [740.0, 160000.0], [625.0, 27250.0]]\n",
      "[650, 50000] --> [102500.02743902072, 110000.03681817565, 22750.01373625959]\n",
      "[660, 52000] --> [100500.0210198983, 108000.02962962557, 24750.024747462376]\n",
      "[670, 54000] --> [98500.01535532875, 106000.02311320502, 26750.037850440513]\n",
      "[720, 150000] --> [2500.004999995, 10000.01999998, 122750.03676170528]\n",
      "[730, 155000] --> [2500.004999995, 5000.00999999, 127750.04315067764]\n",
      "[740, 160000] --> [7500.014999985, 0.0, 132750.04981166674]\n",
      "[580, 2000] --> [150500.06985048213, 158000.08101263747, 25250.04009897806]\n",
      "[590, 2500] --> [150000.0607499877, 157500.07142855524, 24750.024747462376]\n",
      "[600, 3000] --> [149500.05225751596, 157000.06242036977, 24250.012886594515]\n",
      "0 --> [[720, 150000], [730, 155000]]\n",
      "1 --> [[740, 160000]]\n",
      "2 --> [[650, 50000], [660, 52000], [670, 54000], [580, 2000], [590, 2500], [600, 3000]]\n",
      "NEW Cluster Center [[725.0, 152500.0], [740.0, 160000.0], [625.0, 27250.0]]\n",
      "[650, 50000] --> [102500.02743902072, 110000.03681817565, 22750.01373625959]\n",
      "[660, 52000] --> [100500.0210198983, 108000.02962962557, 24750.024747462376]\n",
      "[670, 54000] --> [98500.01535532875, 106000.02311320502, 26750.037850440513]\n",
      "[720, 150000] --> [2500.004999995, 10000.01999998, 122750.03676170528]\n",
      "[730, 155000] --> [2500.004999995, 5000.00999999, 127750.04315067764]\n",
      "[740, 160000] --> [7500.014999985, 0.0, 132750.04981166674]\n",
      "[580, 2000] --> [150500.06985048213, 158000.08101263747, 25250.04009897806]\n",
      "[590, 2500] --> [150000.0607499877, 157500.07142855524, 24750.024747462376]\n",
      "[600, 3000] --> [149500.05225751596, 157000.06242036977, 24250.012886594515]\n",
      "0 --> [[720, 150000], [730, 155000]]\n",
      "1 --> [[740, 160000]]\n",
      "2 --> [[650, 50000], [660, 52000], [670, 54000], [580, 2000], [590, 2500], [600, 3000]]\n",
      "NEW Cluster Center [[725.0, 152500.0], [740.0, 160000.0], [625.0, 27250.0]]\n",
      "[650, 50000] --> [102500.02743902072, 110000.03681817565, 22750.01373625959]\n",
      "[660, 52000] --> [100500.0210198983, 108000.02962962557, 24750.024747462376]\n",
      "[670, 54000] --> [98500.01535532875, 106000.02311320502, 26750.037850440513]\n",
      "[720, 150000] --> [2500.004999995, 10000.01999998, 122750.03676170528]\n",
      "[730, 155000] --> [2500.004999995, 5000.00999999, 127750.04315067764]\n",
      "[740, 160000] --> [7500.014999985, 0.0, 132750.04981166674]\n",
      "[580, 2000] --> [150500.06985048213, 158000.08101263747, 25250.04009897806]\n",
      "[590, 2500] --> [150000.0607499877, 157500.07142855524, 24750.024747462376]\n",
      "[600, 3000] --> [149500.05225751596, 157000.06242036977, 24250.012886594515]\n",
      "0 --> [[720, 150000], [730, 155000]]\n",
      "1 --> [[740, 160000]]\n",
      "2 --> [[650, 50000], [660, 52000], [670, 54000], [580, 2000], [590, 2500], [600, 3000]]\n",
      "NEW Cluster Center [[725.0, 152500.0], [740.0, 160000.0], [625.0, 27250.0]]\n",
      "[650, 50000] --> [102500.02743902072, 110000.03681817565, 22750.01373625959]\n",
      "[660, 52000] --> [100500.0210198983, 108000.02962962557, 24750.024747462376]\n",
      "[670, 54000] --> [98500.01535532875, 106000.02311320502, 26750.037850440513]\n",
      "[720, 150000] --> [2500.004999995, 10000.01999998, 122750.03676170528]\n",
      "[730, 155000] --> [2500.004999995, 5000.00999999, 127750.04315067764]\n",
      "[740, 160000] --> [7500.014999985, 0.0, 132750.04981166674]\n",
      "[580, 2000] --> [150500.06985048213, 158000.08101263747, 25250.04009897806]\n",
      "[590, 2500] --> [150000.0607499877, 157500.07142855524, 24750.024747462376]\n",
      "[600, 3000] --> [149500.05225751596, 157000.06242036977, 24250.012886594515]\n",
      "0 --> [[720, 150000], [730, 155000]]\n",
      "1 --> [[740, 160000]]\n",
      "2 --> [[650, 50000], [660, 52000], [670, 54000], [580, 2000], [590, 2500], [600, 3000]]\n",
      "NEW Cluster Center [[725.0, 152500.0], [740.0, 160000.0], [625.0, 27250.0]]\n"
     ]
    }
   ],
   "source": [
    "import numpy as np\n",
    "\n",
    "def kmeans_du(k,data):\n",
    "    # select random center\n",
    "    center_data = [data[np.random.randint(0,len(data))] for i in range(0,k)]\n",
    "    print(center_data)\n",
    "    \n",
    "    #cluster data\n",
    "    cluster_data = [[] for i in range(0,k)]\n",
    "    for i in range(0,k):\n",
    "        cluster_data[i].append(center_data[i])\n",
    "    print(cluster_data)\n",
    "    \n",
    "    for j in range(0,5):\n",
    "        cluster_data = [[] for i in range(0,k)]\n",
    "        for d in data:\n",
    "            mindistance = []\n",
    "            for i in range(0,k):\n",
    "                mindistance.append(distance(center_data[i],d))\n",
    "            print(d ,\"-->\",mindistance)\n",
    "            cluster_data[mindistance.index(min(mindistance))].append(d)\n",
    "        \n",
    "        # print Cluster data\n",
    "        \n",
    "        for i in range(0,k):\n",
    "            print(i,\"-->\",cluster_data[i])\n",
    "        \n",
    "        # update Cluster center\n",
    "        for i in range(0,k):\n",
    "            center_data[i] = update_cluster_center(cluster_data[i])\n",
    "        print(\"NEW Cluster Center\",center_data) \n",
    "kmeans_du(3,data)"
   ]
  },
  {
   "cell_type": "markdown",
   "id": "a425849c-ac04-4929-885e-aae4625c4baa",
   "metadata": {},
   "source": [
    "# Implement K-Medoids without Library\n",
    "# Sample data points\n",
    "data = [\n",
    "    [650, 50000],   \n",
    "    [660, 52000],   \n",
    "    [670, 54000],   \n",
    "    [720, 150000],  \n",
    "    [730, 155000],  \n",
    "    [740, 160000],  \n",
    "    [580, 2000],    \n",
    "    [590, 2500],   \n",
    "    [600, 3000]     \n",
    "]"
   ]
  },
  {
   "cell_type": "code",
   "execution_count": 19,
   "id": "adebf5e0-4511-402e-867e-99706329e314",
   "metadata": {},
   "outputs": [],
   "source": [
    "import random\n",
    "import math"
   ]
  },
  {
   "cell_type": "code",
   "execution_count": 21,
   "id": "b1faea6d-8234-42cc-afd8-21087c0d14ed",
   "metadata": {},
   "outputs": [],
   "source": [
    "def euclidean_distance(p1, p2):\n",
    "    return math.sqrt(sum((x - y) ** 2 for x, y in zip(p1, p2)))"
   ]
  },
  {
   "cell_type": "code",
   "execution_count": 23,
   "id": "7cf234b9-7fea-474b-8cbd-90621b5c4e6f",
   "metadata": {},
   "outputs": [],
   "source": [
    "def assign_points(data, medoids):\n",
    "    clusters = {i: [] for i in range(len(medoids))}\n",
    "    for point in data:\n",
    "        distances = [euclidean_distance(point, medoid) for medoid in medoids]\n",
    "        nearest = distances.index(min(distances))\n",
    "        clusters[nearest].append(point)\n",
    "    return clusters"
   ]
  },
  {
   "cell_type": "code",
   "execution_count": 25,
   "id": "597b09be-f474-40f6-97e8-3c0265baffb4",
   "metadata": {},
   "outputs": [],
   "source": [
    "def calculate_cost(clusters, medoids):\n",
    "    cost = 0\n",
    "    for i, points in clusters.items():\n",
    "        for p in points:\n",
    "            cost += euclidean_distance(p, medoids[i])\n",
    "    return cost"
   ]
  },
  {
   "cell_type": "code",
   "execution_count": 27,
   "id": "a03b7d06-7694-4288-aea1-1b0a2741a6b8",
   "metadata": {},
   "outputs": [],
   "source": [
    "def k_medoids(data, k, max_iter=100):\n",
    "    # Step 1: Randomly select initial medoids\n",
    "    medoids = random.sample(data, k)\n",
    "\n",
    "    for _ in range(max_iter):\n",
    "        clusters = assign_points(data, medoids)\n",
    "        current_cost = calculate_cost(clusters, medoids)\n",
    "\n",
    "        best_medoids = medoids[:]\n",
    "        improved = False\n",
    "\n",
    "        # Step 2: Try swapping medoids with non-medoids\n",
    "        for i in range(len(medoids)):\n",
    "            for candidate in data:\n",
    "                if candidate not in medoids:\n",
    "                    new_medoids = medoids[:]\n",
    "                    new_medoids[i] = candidate\n",
    "                    new_clusters = assign_points(data, new_medoids)\n",
    "                    new_cost = calculate_cost(new_clusters, new_medoids)\n",
    "\n",
    "                    if new_cost < current_cost:\n",
    "                        best_medoids = new_medoids\n",
    "                        current_cost = new_cost\n",
    "                        improved = True\n",
    "\n",
    "        medoids = best_medoids\n",
    "        if not improved:\n",
    "            break  # convergence\n",
    "\n",
    "    final_clusters = assign_points(data, medoids)\n",
    "    return medoids, final_clusters"
   ]
  },
  {
   "cell_type": "code",
   "execution_count": 29,
   "id": "053c4800-4510-4a11-b928-8e0a80663bec",
   "metadata": {},
   "outputs": [],
   "source": [
    "k = 3\n",
    "medoids, clusters = k_medoids(data, k)"
   ]
  },
  {
   "cell_type": "code",
   "execution_count": 31,
   "id": "9e88889b-bf37-494a-8197-1c1d91152c36",
   "metadata": {},
   "outputs": [
    {
     "name": "stdout",
     "output_type": "stream",
     "text": [
      "Final Medoids: [[590, 2500], [660, 52000], [730, 155000]]\n",
      "Clusters:\n",
      "Cluster 1: [[580, 2000], [590, 2500], [600, 3000]]\n",
      "Cluster 2: [[650, 50000], [660, 52000], [670, 54000]]\n",
      "Cluster 3: [[720, 150000], [730, 155000], [740, 160000]]\n"
     ]
    }
   ],
   "source": [
    "print(\"Final Medoids:\", medoids)\n",
    "print(\"Clusters:\")\n",
    "for i, points in clusters.items():\n",
    "    print(f\"Cluster {i+1}: {points}\")"
   ]
  },
  {
   "cell_type": "code",
   "execution_count": null,
   "id": "7f82ecb4-de49-4ff5-90d2-6ad67f63c731",
   "metadata": {},
   "outputs": [],
   "source": []
  }
 ],
 "metadata": {
  "kernelspec": {
   "display_name": "Python [conda env:base] *",
   "language": "python",
   "name": "conda-base-py"
  },
  "language_info": {
   "codemirror_mode": {
    "name": "ipython",
    "version": 3
   },
   "file_extension": ".py",
   "mimetype": "text/x-python",
   "name": "python",
   "nbconvert_exporter": "python",
   "pygments_lexer": "ipython3",
   "version": "3.13.5"
  }
 },
 "nbformat": 4,
 "nbformat_minor": 5
}
